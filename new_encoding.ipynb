{
 "cells": [
  {
   "cell_type": "code",
   "execution_count": 3,
   "metadata": {},
   "outputs": [],
   "source": [
    "from PIL import Image\n",
    "import numpy as np\n",
    "import random\n",
    "from qiskit import *"
   ]
  },
  {
   "cell_type": "markdown",
   "metadata": {},
   "source": [
    "Open whatever image you have handy"
   ]
  },
  {
   "cell_type": "code",
   "execution_count": 4,
   "metadata": {},
   "outputs": [],
   "source": [
    "img = Image.open('pic.png')"
   ]
  },
  {
   "cell_type": "markdown",
   "metadata": {},
   "source": [
    "We are going to pull out all the RGB values of all the pixels in this image and mess around with them. So here's a quick function that will put them back together into an image."
   ]
  },
  {
   "cell_type": "code",
   "execution_count": 5,
   "metadata": {},
   "outputs": [],
   "source": [
    "def show_image(pixels):\n",
    "    # creates and shows an image with the given pixel values\n",
    "    new_img = Image.new('RGB',(width,height))  \n",
    "    for x in range(width):\n",
    "        for y in range(height):\n",
    "            new_img.load()[x,y] = pixels[x,y]\n",
    "    new_img.show()"
   ]
  },
  {
   "cell_type": "markdown",
   "metadata": {},
   "source": [
    "First off, we pull out the RGB (and alpha) values of the pixels and put them in a dictionary called `pixels`. Then when we call `pixels[x,y]`, this will give use the RGB values for the coordinate at position $(x,y)$."
   ]
  },
  {
   "cell_type": "code",
   "execution_count": 6,
   "metadata": {},
   "outputs": [],
   "source": [
    "# load image\n",
    "height = img.height\n",
    "width = img.width\n",
    "\n",
    "# get all pixel data out\n",
    "pixels = {}\n",
    "for x in range(width):\n",
    "    for y in range(height):\n",
    "        pixels[x,y] =  img.getpixel((x,y)) "
   ]
  },
  {
   "cell_type": "markdown",
   "metadata": {},
   "source": [
    "We'll remove the transparency in future steps. In preparation for that, we should make completely transparent pixels into white pixels."
   ]
  },
  {
   "cell_type": "code",
   "execution_count": 7,
   "metadata": {},
   "outputs": [],
   "source": [
    "for pos in pixels:\n",
    "    if pixels[pos][3]==0:\n",
    "        pixels[pos] = (255,255,255,255)"
   ]
  },
  {
   "cell_type": "markdown",
   "metadata": {},
   "source": [
    "Pixels are described by three values: the RGB values. Qubits are also described by three values: the X, Y and Z expectation values (which are also the cartesian coordinates of the Bloch sphere). So this gives a natural way to encode pixel data into qubits.\n",
    "\n",
    "One complication is that the all the channels for RGB can take extreme values at once. For example, you can have blue fully on, and red and green fully off. For qubits this would be mapped to X, Y and Z values of $(1,-1,-1)$, which lies outside of the Bloch sphere. It would violate the uncertainty principle, since it would mean that the outcome would be certain for measurements in all Pauli bases.\n",
    "\n",
    "For this reason, we must normalize rgb values to put them on the surface of the Bloch sphere (we could also let them live inside the Bloch sphere, but I can't be bothered with mixed states)."
   ]
  },
  {
   "cell_type": "code",
   "execution_count": 8,
   "metadata": {},
   "outputs": [],
   "source": [
    "# we associate r, g and b values with X, Y and Z expectation values\n",
    "# this places a constraint on allowed rgb values, since the X, Y and Z must correspond to a point on the Bloch sphere\n",
    "for pos in pixels:\n",
    "    \n",
    "    # convert rgb to pauli expectation values\n",
    "    X = pixels[pos][0]/255-0.5\n",
    "    Y = pixels[pos][1]/255-0.5\n",
    "    Z = pixels[pos][2]/255-0.5\n",
    "    \n",
    "    # renormalize to surface of Bloch sphere\n",
    "    N = np.sqrt( X**2 + Y**2 + Z**2 )\n",
    "    X = X/N\n",
    "    Y = Y/N\n",
    "    Z = Z/N\n",
    "    \n",
    "    # set pixels to new rgb values (also remove all transparency)\n",
    "    pixels[pos] = ( int( 255*(X+0.5)), int( 255*(Y+0.5)), int( 255*(Z+0.5)), 255 )\n",
    "    \n",
    "show_image(pixels)"
   ]
  },
  {
   "cell_type": "markdown",
   "metadata": {},
   "source": [
    "For this encoding, the $\\left|0\\right\\rangle$ state corresponds to blue. A fully blue image is therefore our blank slate.\n",
    "\n",
    "Taking such a blank image, we could try to copy our original image with CNOTs. This would copy the Z coordinate, but result in the X and Y coordinates being set to zero for both images.\n",
    "\n",
    "For such a simple effect, there's no need to use Qiskit to see what happens. Here's what both copies would look like."
   ]
  },
  {
   "cell_type": "code",
   "execution_count": 9,
   "metadata": {},
   "outputs": [],
   "source": [
    "# let's see what happen if a process causes the X and Y expectation values to go to zero\n",
    "# this could be because the pixels are entangled with something else, or because of decoherence\n",
    "decohered_pixels = {}\n",
    "for pos in pixels:\n",
    "    decohered_pixels[pos] = ( pixels[pos][0], 128, 128, 255 ) # 128 for b and g correspond to 0 for X and Y\n",
    "    \n",
    "show_image(decohered_pixels)"
   ]
  },
  {
   "cell_type": "markdown",
   "metadata": {},
   "source": [
    "We could also use a different controlled operation for each qubit, which would copy a different coordinate. Here's what it would look like for a random choice."
   ]
  },
  {
   "cell_type": "code",
   "execution_count": 10,
   "metadata": {},
   "outputs": [],
   "source": [
    "# now the same, but the axis for the decoherence is randomly chosen for each pixel,\n",
    "# instead of it always preserving the expectation value Z\n",
    "\n",
    "# apply decoherence\n",
    "decohered_pixels = {}\n",
    "for pos in pixels:\n",
    "    rand = random.random()\n",
    "    if rand<1/3:\n",
    "        decohered_pixels[pos] = ( pixels[pos][0], 128, 128, 255 )\n",
    "    elif rand<2/3:\n",
    "        decohered_pixels[pos] = ( 128, pixels[pos][1], 128, 255 )\n",
    "    else:\n",
    "        decohered_pixels[pos] = ( 128, 128, pixels[pos][2], 255 )\n",
    "        \n",
    "show_image(decohered_pixels)"
   ]
  },
  {
   "cell_type": "markdown",
   "metadata": {},
   "source": [
    "Other ideas:\n",
    "\n",
    "* This encoding would actually need many qubits for each pixel, all prepared in the same state. This is required for the decoding to be able to determine X, Y and Z, which are expectation values. Another copying method could then be to simply share out the qubits. With less samples to do statistics on, each copy would be degraded in comparison to the original.\n",
    "\n",
    "* Since this encoding doesn't require entangled states, it could be run on a quantum computer as lots of single qubit jobs. This means that we could do it on current tech, even for arbitrarily large images. The only limit is the time we are willing to spend constantly submitting jobs!\n",
    "\n"
   ]
  },
  {
   "cell_type": "code",
   "execution_count": null,
   "metadata": {},
   "outputs": [],
   "source": []
  }
 ],
 "metadata": {
  "kernelspec": {
   "display_name": "Python 3",
   "language": "python",
   "name": "python3"
  },
  "language_info": {
   "codemirror_mode": {
    "name": "ipython",
    "version": 3
   },
   "file_extension": ".py",
   "mimetype": "text/x-python",
   "name": "python",
   "nbconvert_exporter": "python",
   "pygments_lexer": "ipython3",
   "version": "3.7.0"
  }
 },
 "nbformat": 4,
 "nbformat_minor": 2
}
